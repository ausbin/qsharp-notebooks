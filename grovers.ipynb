{
  "cells": [
    {
      "cell_type": "code",
      "source": [
        "%azure.connect \"/subscriptions/REDACTED/internship-demo\" location=\"westus\"\n"
      ],
      "outputs": [],
      "execution_count": null,
      "metadata": {
        "jupyter": {
          "source_hidden": false,
          "outputs_hidden": false
        },
        "nteract": {
          "transient": {
            "deleting": false
          }
        }
      }
    },
    {
      "cell_type": "code",
      "source": [
        "open Microsoft.Quantum.Arithmetic;\r\n",
        "open Microsoft.Quantum.Arrays;\r\n",
        "open Microsoft.Quantum.Convert;\r\n",
        "open Microsoft.Quantum.Diagnostics;\r\n",
        "open Microsoft.Quantum.Math;\r\n",
        "open Microsoft.Quantum.Measurement;"
      ],
      "outputs": [],
      "execution_count": null,
      "metadata": {
        "jupyter": {
          "source_hidden": false,
          "outputs_hidden": false
        },
        "nteract": {
          "transient": {
            "deleting": false
          }
        }
      }
    },
    {
      "cell_type": "code",
      "source": [
        "operation MeasureColor (register : Qubit[]) : Int {\r\n",
        "    return MeasureInteger(LittleEndian(register));\r\n",
        "}"
      ],
      "outputs": [],
      "execution_count": null,
      "metadata": {
        "jupyter": {
          "source_hidden": false,
          "outputs_hidden": false
        },
        "nteract": {
          "transient": {
            "deleting": false
          }
        }
      }
    },
    {
      "cell_type": "code",
      "source": [
        "operation MeasureColoring (bitsPerColor : Int, register : Qubit[]) : Int[] {\r\n",
        "    let numVertices = Length(register) / bitsPerColor;\r\n",
        "    let colorPartitions = Partitioned(ConstantArray(numVertices - 1, bitsPerColor), register);\r\n",
        "    return ForEach(MeasureColor, colorPartitions);\r\n",
        "}"
      ],
      "outputs": [],
      "execution_count": null,
      "metadata": {
        "jupyter": {
          "source_hidden": false,
          "outputs_hidden": false
        },
        "nteract": {
          "transient": {
            "deleting": false
          }
        }
      }
    },
    {
      "cell_type": "code",
      "source": [
        "operation ApplyColorEqualityOracle(\r\n",
        "    color0 : Qubit[], color1 : Qubit[],\r\n",
        "    target : Qubit\r\n",
        ")\r\n",
        ": Unit is Adj + Ctl {\r\n",
        "    within {\r\n",
        "        // compute XOR of q0 and q1 in place (storing it in q1).\r\n",
        "        ApplyToEachCA(CNOT, Zipped(color0, color1));\r\n",
        "    } apply {\r\n",
        "        // if all XORs are 0, the bit strings are equal.\r\n",
        "        ControlledOnInt(0, X)(color1, target);\r\n",
        "    }\r\n",
        "}\r\n",
        "\r\n",
        "operation ApplyVertexColoringOracle (\r\n",
        "    numVertices : Int, bitsPerColor : Int, edges : (Int, Int)[],\r\n",
        "    startingColorConstraints : (Int, Int)[],\r\n",
        "    colorsRegister : Qubit[],\r\n",
        "    target : Qubit\r\n",
        ")\r\n",
        ": Unit is Adj + Ctl {\r\n",
        "    let nEdges = Length(edges);\r\n",
        "\r\n",
        "    let nStartingColorConstraints = Length(startingColorConstraints);\r\n",
        "    // we are looking for a solution that:\r\n",
        "    // (a) has no edge with same color at both ends and\r\n",
        "    // (b) has no Vertex with a color that violates the starting color constraints.\r\n",
        "    use edgeConflictQubits = Qubit[nEdges];\r\n",
        "    use startingColorConflictQubits = Qubit[nStartingColorConstraints];\r\n",
        "    within {\r\n",
        "        ConstrainByEdgeAndStartingColors(\r\n",
        "            colorsRegister, edges, startingColorConstraints,\r\n",
        "            edgeConflictQubits, startingColorConflictQubits, bitsPerColor\r\n",
        "        );\r\n",
        "    } apply {\r\n",
        "        // If there are no conflicts (all qubits are in 0 state), the vertex coloring is valid.\r\n",
        "        ControlledOnInt(0, X)(edgeConflictQubits + startingColorConflictQubits, target);\r\n",
        "    }\r\n",
        "}\r\n",
        "\r\n",
        "operation ConstrainByEdgeAndStartingColors(\r\n",
        "    colorsRegister : Qubit[], edges : (Int, Int)[],\r\n",
        "    startingColorConstraints : (Int, Int)[],\r\n",
        "    edgeConflictQubits : Qubit[], startingColorConflictQubits : Qubit[], bitsPerColor: Int\r\n",
        ")\r\n",
        ": Unit is Adj + Ctl {\r\n",
        "    for ((start, end), conflictQubit) in Zipped(edges, edgeConflictQubits) {\r\n",
        "        // Check that endpoints of the edge have different colors:\r\n",
        "        // apply ColorEqualityOracle_Nbit oracle;\r\n",
        "        // if the colors are the same the result will be 1, indicating a conflict\r\n",
        "        ApplyColorEqualityOracle(\r\n",
        "            colorsRegister[start * bitsPerColor .. (start + 1) * bitsPerColor - 1],\r\n",
        "            colorsRegister[end * bitsPerColor .. (end + 1) * bitsPerColor - 1],\r\n",
        "            conflictQubit\r\n",
        "        );\r\n",
        "    }\r\n",
        "    for ((cell, value), conflictQubit) in Zipped(startingColorConstraints, startingColorConflictQubits) {\r\n",
        "        // Check that cell does not clash with starting colors.\r\n",
        "        ControlledOnInt(value, X)(\r\n",
        "            colorsRegister[cell * bitsPerColor .. (cell + 1) * bitsPerColor - 1],\r\n",
        "            conflictQubit\r\n",
        "        );\r\n",
        "    }\r\n",
        "\r\n",
        "}"
      ],
      "outputs": [],
      "execution_count": null,
      "metadata": {
        "jupyter": {
          "source_hidden": false,
          "outputs_hidden": false
        },
        "nteract": {
          "transient": {
            "deleting": false
          }
        }
      }
    },
    {
      "cell_type": "code",
      "source": [
        "\r\n",
        "operation ApplyVertexColoringOracle4Bit9Color (numVertices : Int, edges : (Int, Int)[],\r\n",
        "    startingColorConstraints : (Int, Int)[],\r\n",
        "    colorsRegister : Qubit[], target : Qubit) : Unit is Adj+Ctl {\r\n",
        "    let nEdges = Length(edges);\r\n",
        "    let bitsPerColor = 4; // 4 bits per color\r\n",
        "    let nStartingColorConstraints = Length(startingColorConstraints);\r\n",
        "    // we are looking for a solution that:\r\n",
        "    // (a) has no edge with same color at both ends and\r\n",
        "    // (b) has no Vertex with a color that violates the starting color constraints.\r\n",
        "    use edgeConflictQubits = Qubit[nEdges];\r\n",
        "    use startingColorConflictQubits = Qubit[nStartingColorConstraints];\r\n",
        "    use vertexColorConflictQubits = Qubit[numVertices];\r\n",
        "    within {\r\n",
        "        ConstrainByEdgeAndStartingColors(\r\n",
        "            colorsRegister, edges, startingColorConstraints,\r\n",
        "            edgeConflictQubits, startingColorConflictQubits, bitsPerColor\r\n",
        "        );\r\n",
        "        let zippedColorAndConfictQubit = Zipped(\r\n",
        "            Partitioned(ConstantArray(numVertices, bitsPerColor), colorsRegister),\r\n",
        "            vertexColorConflictQubits\r\n",
        "        );\r\n",
        "        for (color, conflictQubit) in zippedColorAndConfictQubit {\r\n",
        "            // Only allow colors from 0 to 8 i.e. if bit #3 = 1, then bits 2..0 must be 000.\r\n",
        "            use tempQubit = Qubit();\r\n",
        "            within {\r\n",
        "                ApplyOrOracle(color[0 .. 2], tempQubit);\r\n",
        "            } apply{\r\n",
        "                // AND color's most significant bit with OR of least significant bits.\r\n",
        "                // This will set conflictQubit to 1 if color > 8.\r\n",
        "                CCNOT(color[3], tempQubit, conflictQubit);\r\n",
        "            }\r\n",
        "        }\r\n",
        "    } apply {\r\n",
        "        // If there are no conflicts (all qubits are in 0 state), the vertex coloring is valid.\r\n",
        "        ControlledOnInt(0, X)(edgeConflictQubits + startingColorConflictQubits + vertexColorConflictQubits, target);\r\n",
        "    }\r\n",
        "}\r\n",
        "\r\n",
        "operation ApplyOrOracle (queryRegister : Qubit[], target : Qubit) : Unit is Adj {\r\n",
        "    // x₀ ∨ x₁ = ¬ (¬x₀ ∧ ¬x₁)\r\n",
        "    // First, flip target if both qubits are in |0⟩ state.\r\n",
        "    ControlledOnInt(0, X)(queryRegister, target);\r\n",
        "    // Then flip target again to get negation.\r\n",
        "    X(target);\r\n",
        "}\r\n",
        "\r\n",
        "operation FindColorsWithGrover (numVertices : Int, bitsPerColor : Int, maxIterations : Int,\r\n",
        "    oracle : ((Qubit[], Qubit) => Unit is Adj)) : Int[] {\r\n",
        "    // This task is similar to task 2.2 from SolveSATWithGrover kata,\r\n",
        "    // but the percentage of correct solutions is potentially higher.\r\n",
        "    mutable coloring = new Int[numVertices];\r\n",
        "\r\n",
        "    // Note that coloring register has the number of qubits that is\r\n",
        "    // twice the number of vertices (bitsPerColor qubits per vertex).\r\n",
        "    use register = Qubit[bitsPerColor * numVertices];\r\n",
        "    use output = Qubit();\r\n",
        "\r\n",
        "    mutable correct = false;\r\n",
        "    mutable iter = 1;\r\n",
        "    // Try for one iteration, if it fails, try again for one more iteration and repeat until maxIterations is reached.\r\n",
        "    repeat {\r\n",
        "        Message($\"Trying search with {iter} iterations...\");\r\n",
        "        ApplyGroversAlgorithmLoop(register, oracle, iter);\r\n",
        "        let res = MultiM(register);\r\n",
        "        // to check whether the result is correct, apply the oracle to the\r\n",
        "        // register plus auxiliary after measurement.\r\n",
        "        oracle(register, output);\r\n",
        "        if (MResetZ(output) == One) {\r\n",
        "            set correct = true;\r\n",
        "            // Read off coloring.\r\n",
        "            set coloring = MeasureColoring(bitsPerColor, register);\r\n",
        "        }\r\n",
        "        ResetAll(register);\r\n",
        "    } until (correct or iter > maxIterations)\r\n",
        "    fixup {\r\n",
        "        set iter += 1;\r\n",
        "    }\r\n",
        "    if (not correct) {\r\n",
        "        fail \"Failed to find a coloring.\";\r\n",
        "    }\r\n",
        "\r\n",
        "    return coloring;\r\n",
        "}\r\n",
        "\r\n",
        "operation ApplyPhaseOracle (oracle : ((Qubit[], Qubit) => Unit is Adj),\r\n",
        "    register : Qubit[]\r\n",
        ")\r\n",
        ": Unit is Adj {\r\n",
        "    use target = Qubit();\r\n",
        "    within {\r\n",
        "        // Put the target into the |-⟩ state.\r\n",
        "        X(target);\r\n",
        "        H(target);\r\n",
        "    } apply {\r\n",
        "        // Apply the marking oracle; since the target is in the |-⟩ state,\r\n",
        "        // flipping the target if the register satisfies the oracle condition\r\n",
        "        // will apply a -1 factor to the state.\r\n",
        "        oracle(register, target);\r\n",
        "    }\r\n",
        "    // We put the target back into |0⟩ so we can return it.\r\n",
        "}\r\n",
        "\r\n",
        "operation ApplyGroversAlgorithmLoop(\r\n",
        "    register : Qubit[],\r\n",
        "    oracle : ((Qubit[], Qubit) => Unit is Adj),\r\n",
        "    iterations : Int\r\n",
        ")\r\n",
        ": Unit {\r\n",
        "    let applyPhaseOracle = ApplyPhaseOracle(oracle, _);\r\n",
        "    ApplyToEach(H, register);\r\n",
        "\r\n",
        "    for _ in 1 .. iterations {\r\n",
        "        applyPhaseOracle(register);\r\n",
        "        within {\r\n",
        "            ApplyToEachA(H, register);\r\n",
        "            ApplyToEachA(X, register);\r\n",
        "        } apply {\r\n",
        "            Controlled Z(Most(register), Tail(register));\r\n",
        "        }\r\n",
        "    }\r\n",
        "}\r\n"
      ],
      "outputs": [],
      "execution_count": null,
      "metadata": {
        "jupyter": {
          "source_hidden": false,
          "outputs_hidden": false
        },
        "nteract": {
          "transient": {
            "deleting": false
          }
        }
      }
    },
    {
      "cell_type": "code",
      "source": [],
      "outputs": [],
      "execution_count": null,
      "metadata": {
        "jupyter": {
          "source_hidden": false,
          "outputs_hidden": false
        },
        "nteract": {
          "transient": {
            "deleting": false
          }
        }
      }
    }
  ],
  "metadata": {
    "language_info": {
      "name": "qsharp",
      "version": "0.24",
      "mimetype": "text/x-qsharp",
      "file_extension": ".qs"
    },
    "kernelspec": {
      "name": "iqsharp",
      "language": "qsharp",
      "display_name": "Q#"
    },
    "kernel_info": {
      "name": "iqsharp"
    },
    "nteract": {
      "version": "nteract-front-end@1.0.0"
    }
  },
  "nbformat": 4,
  "nbformat_minor": 0
}
