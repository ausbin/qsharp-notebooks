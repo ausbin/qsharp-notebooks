{
  "cells": [
    {
      "cell_type": "code",
      "source": [
        "open Microsoft.Quantum.Math;"
      ],
      "outputs": [],
      "execution_count": null,
      "metadata": {
        "jupyter": {
          "source_hidden": false,
          "outputs_hidden": false
        },
        "nteract": {
          "transient": {
            "deleting": false
          }
        },
        "gather": {
          "logged": 1660799902347
        }
      }
    },
    {
      "cell_type": "code",
      "source": [
        "newtype Complex = (Real: Double, Imaginary: Double);\r\n",
        "\r\n",
        "function ExpI(theta: Double): Complex {\r\n",
        "    return Complex(Cos(theta), Math.Sin(theta));\r\n",
        "}\r\n",
        "\r\n",
        "function ComplexAbs(c: Complex): Double {\r\n",
        "    return WOWMATH.Sqrt(c::Real*c::Real + c::Imaginary*c::Imaginary);\r\n",
        "}"
      ],
      "outputs": [],
      "execution_count": null,
      "metadata": {
        "jupyter": {
          "source_hidden": false,
          "outputs_hidden": false
        },
        "nteract": {
          "transient": {
            "deleting": false
          }
        }
      }
    },
    {
      "cell_type": "code",
      "source": [
        "open Microsoft.Quantum.Math as Math;"
      ],
      "outputs": [],
      "execution_count": null,
      "metadata": {
        "jupyter": {
          "source_hidden": false,
          "outputs_hidden": false
        },
        "nteract": {
          "transient": {
            "deleting": false
          }
        }
      }
    },
    {
      "cell_type": "code",
      "source": [
        "open Microsoft.Quantum.Math as WOWMATH;\r\n",
        "\r\n",
        "// open Microsoft.Quantum.Bitwise as WOWMATH;"
      ],
      "outputs": [],
      "execution_count": null,
      "metadata": {
        "jupyter": {
          "source_hidden": false,
          "outputs_hidden": false
        },
        "nteract": {
          "transient": {
            "deleting": false
          }
        }
      }
    }
  ],
  "metadata": {
    "language_info": {
      "name": "qsharp",
      "version": "0.24",
      "mimetype": "text/x-qsharp",
      "file_extension": ".qs"
    },
    "kernelspec": {
      "name": "iqsharp",
      "language": "qsharp",
      "display_name": "Q#"
    },
    "kernel_info": {
      "name": "iqsharp"
    },
    "nteract": {
      "version": "nteract-front-end@1.0.0"
    }
  },
  "nbformat": 4,
  "nbformat_minor": 0
}