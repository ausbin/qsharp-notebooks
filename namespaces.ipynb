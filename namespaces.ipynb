{
  "cells": [
    {
      "cell_type": "code",
      "source": [
        "open Microsoft.Quantum.Math;\r\n",
        "\r\n",
        "newtype Complex = (Real: Double, Imaginary: Double);\r\n",
        "\r\n",
        "function Conjugate(c: Complex): Complex {\r\n",
        "    return Complex(c::Real, -c::Imaginary);\r\n",
        "}\r\n",
        "\r\n",
        "operation nothing(): Unit {\r\n",
        "}\r\n",
        "\r\n",
        "namespace {\r\n",
        "}"
      ],
      "outputs": [],
      "execution_count": null,
      "metadata": {
        "jupyter": {
          "source_hidden": false,
          "outputs_hidden": false
        },
        "nteract": {
          "transient": {
            "deleting": false
          }
        },
        "gather": {
          "logged": 1660799902347
        }
      }
    }
  ],
  "metadata": {
    "language_info": {
      "name": "qsharp",
      "version": "0.24",
      "mimetype": "text/x-qsharp",
      "file_extension": ".qs"
    },
    "kernelspec": {
      "name": "iqsharp",
      "language": "qsharp",
      "display_name": "Q#"
    },
    "kernel_info": {
      "name": "iqsharp"
    },
    "nteract": {
      "version": "nteract-front-end@1.0.0"
    }
  },
  "nbformat": 4,
  "nbformat_minor": 0
}