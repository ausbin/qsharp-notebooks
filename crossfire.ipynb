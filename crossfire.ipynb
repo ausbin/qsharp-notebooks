{
  "cells": [
    {
      "cell_type": "code",
      "source": [
        "operation Hello(): Unit {\n",
        "    Message(\"Hello, \");\n",
        "}\n",
        "\n",
        "operation World(): Unit {\n",
        "    Message(\"World!\");\n",
        "}"
      ],
      "outputs": [],
      "execution_count": null,
      "metadata": {
        "jupyter": {
          "source_hidden": false,
          "outputs_hidden": false
        },
        "nteract": {
          "transient": {
            "deleting": false
          }
        },
        "gather": {
          "logged": 1660802278718
        }
      }
    },
    {
      "cell_type": "code",
      "source": [
        "operation HelloWorld(): Unit {\r\n",
        "    Hello();\r\n",
        "    World();\r\n",
        "}"
      ],
      "outputs": [],
      "execution_count": null,
      "metadata": {
        "jupyter": {
          "source_hidden": false,
          "outputs_hidden": false
        },
        "nteract": {
          "transient": {
            "deleting": false
          }
        },
        "gather": {
          "logged": 1660802284055
        }
      }
    },
    {
      "cell_type": "code",
      "source": [
        "%simulate HelloWorld"
      ],
      "outputs": [],
      "execution_count": null,
      "metadata": {
        "jupyter": {
          "source_hidden": false,
          "outputs_hidden": false
        },
        "nteract": {
          "transient": {
            "deleting": false
          }
        }
      }
    },
    {
      "cell_type": "code",
      "source": [
        "// operation Hello(): Unit {\r\n",
        "//     Message(\"Hiya, \");\r\n",
        "// }"
      ],
      "outputs": [],
      "execution_count": null,
      "metadata": {
        "jupyter": {
          "source_hidden": false,
          "outputs_hidden": false
        },
        "nteract": {
          "transient": {
            "deleting": false
          }
        },
        "gather": {
          "logged": 1660802319292
        }
      }
    }
  ],
  "metadata": {
    "language_info": {
      "name": "qsharp",
      "version": "0.24",
      "mimetype": "text/x-qsharp",
      "file_extension": ".qs"
    },
    "kernelspec": {
      "name": "iqsharp",
      "language": "qsharp",
      "display_name": "Q#"
    },
    "kernel_info": {
      "name": "iqsharp"
    },
    "nteract": {
      "version": "nteract-front-end@1.0.0"
    }
  },
  "nbformat": 4,
  "nbformat_minor": 0
}